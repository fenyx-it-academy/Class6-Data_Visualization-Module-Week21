{
  "nbformat": 4,
  "nbformat_minor": 0,
  "metadata": {
    "colab": {
      "name": "Data Visualisation (Seaborn-Matplotlib).ipynb",
      "provenance": [],
      "collapsed_sections": [],
      "toc_visible": true
    },
    "kernelspec": {
      "display_name": "Python 3",
      "language": "python",
      "name": "python3"
    },
    "language_info": {
      "codemirror_mode": {
        "name": "ipython",
        "version": 3
      },
      "file_extension": ".py",
      "mimetype": "text/x-python",
      "name": "python",
      "nbconvert_exporter": "python",
      "pygments_lexer": "ipython3",
      "version": "3.8.5"
    }
  },
  "cells": [
    {
      "cell_type": "markdown",
      "metadata": {
        "id": "iYlfU09rAzaI"
      },
      "source": [
        "# WELCOME!"
      ]
    },
    {
      "cell_type": "markdown",
      "metadata": {
        "id": "E5TMW6XaAzaJ"
      },
      "source": [
        "Welcome to **\"Bike Demand Visualization Project\"**. As you know recently, free or affordable access to bicycles has been provided for short-distance trips in an urban area as an alternative to motorized public transport or private vehicles. Thus, it is aimed to reduce traffic congestion, noise and air pollution.  \n",
        "\n",
        "The aim of this project is to reveal the current patterns in the data by showing the historical data of London bike shares with visualization tools.\n",
        "\n",
        "This will allow us to X-ray the data as part of the EDA process before setting up a machine learning model.\n",
        "\n"
      ]
    },
    {
      "cell_type": "markdown",
      "metadata": {
        "id": "0TZZ3Vc-AzaJ"
      },
      "source": [
        "---\n",
        "---\n",
        "\n"
      ]
    },
    {
      "cell_type": "markdown",
      "metadata": {
        "id": "mN0CH7VfAzaK"
      },
      "source": [
        "# #Determines\n",
        "\n",
        "\n",
        "\n",
        "#### Features\n",
        "\n",
        "- timestamp - timestamp field for grouping the data\n",
        "- cnt - the count of a new bike shares\n",
        "- t1 - real temperature in C\n",
        "- t2 - temperature in C “feels like”\n",
        "- hum - humidity in percentage\n",
        "- wind_speed - wind speed in km/h\n",
        "- weather_code - category of the weather\n",
        "- is_holiday - boolean field - 1 holiday / 0 non holiday\n",
        "- is_weekend - boolean field - 1 if the day is weekend\n",
        "- season - category field meteorological seasons: 0-spring ; 1-summer; 2-fall; 3-winter.\n",
        "\n",
        "**\"weather_code\" category description:**\n",
        "* 1 = Clear ; mostly clear but have some values with haze/fog/patches of fog/ fog in vicinity \n",
        "* 2 = scattered clouds / few clouds \n",
        "* 3 = Broken clouds \n",
        "* 4 = Cloudy \n",
        "* 7 = Rain/ light Rain shower/ Light rain \n",
        "* 10 = rain with thunderstorm \n",
        "* 26 = snowfall \n",
        "* 94 = Freezing Fog\n",
        "---\n",
        "\n",
        "Initially, the task of discovering data will be waiting for you as always. Recognize features, detect missing values, outliers etc.  Review the data from various angles in different time breakdowns. For example, visualize the distribution of bike shares by day of the week. With this graph, you will be able to easily observe and make inferences how people's behavior changes daily. Likewise, you can make hourly, monthly, seasonally etc. analyzes. In addition, you can analyze correlation of variables with a heatmap.  \n"
      ]
    },
    {
      "cell_type": "markdown",
      "metadata": {
        "id": "K9eNE2ugAzaK"
      },
      "source": [
        "# Tasks\n"
      ]
    },
    {
      "cell_type": "markdown",
      "metadata": {
        "id": "uSlEdW1A20Io"
      },
      "source": [
        "### 1.Import libraries"
      ]
    },
    {
      "cell_type": "code",
      "metadata": {
        "id": "GL3nsXNYAzaL"
      },
      "source": [
        "import numpy as np\n",
        "import pandas as pd\n",
        "import seaborn as sns\n",
        "import matplotlib.pyplot as plt\n",
        "from pandas.plotting import register_matplotlib_converters\n",
        "from pylab import rcParams\n",
        "sns.set_style(\"darkgrid\")\n",
        "\n",
        "import warnings\n",
        "warnings.filterwarnings(\"ignore\")"
      ],
      "execution_count": null,
      "outputs": []
    },
    {
      "cell_type": "markdown",
      "metadata": {
        "id": "eppisf6o20Ip"
      },
      "source": [
        "### 2.Read dataset"
      ]
    },
    {
      "cell_type": "code",
      "metadata": {
        "id": "BtAf43Va20Iq"
      },
      "source": [
        ""
      ],
      "execution_count": null,
      "outputs": []
    },
    {
      "cell_type": "markdown",
      "metadata": {
        "id": "VjheHYF220Iq"
      },
      "source": [
        "### 3.Check missing values and if there are any dublicate rows or not."
      ]
    },
    {
      "cell_type": "code",
      "metadata": {
        "id": "Su1S3Ejc20Ir"
      },
      "source": [
        ""
      ],
      "execution_count": null,
      "outputs": []
    },
    {
      "cell_type": "code",
      "metadata": {
        "id": "taPyMUnj20Ir"
      },
      "source": [
        ""
      ],
      "execution_count": null,
      "outputs": []
    },
    {
      "cell_type": "markdown",
      "metadata": {
        "id": "yMowtQqH20Ir"
      },
      "source": [
        "### 4.Plot the distribution of various discrete features on (Season, haliday, weekend and weathercode)"
      ]
    },
    {
      "cell_type": "code",
      "metadata": {
        "id": "vw4INTSG20Is"
      },
      "source": [
        "# season\n",
        "\n"
      ],
      "execution_count": null,
      "outputs": []
    },
    {
      "cell_type": "code",
      "metadata": {
        "id": "DHPG8s5920Is"
      },
      "source": [
        "# is_holiday\n"
      ],
      "execution_count": null,
      "outputs": []
    },
    {
      "cell_type": "code",
      "metadata": {
        "id": "MbopYVNN20Is"
      },
      "source": [
        "# is_weekend\n"
      ],
      "execution_count": null,
      "outputs": []
    },
    {
      "cell_type": "code",
      "metadata": {
        "id": "y6x24xxV20It"
      },
      "source": [
        "# weather_code\n"
      ],
      "execution_count": null,
      "outputs": []
    },
    {
      "cell_type": "markdown",
      "metadata": {
        "id": "0ckMDGUu20Iu"
      },
      "source": [
        "### 5.Look at the data type of each variable, transform `timestamp` in type, and set it as index."
      ]
    },
    {
      "cell_type": "code",
      "metadata": {
        "id": "UAVtBv_420Iu"
      },
      "source": [
        ""
      ],
      "execution_count": null,
      "outputs": []
    },
    {
      "cell_type": "code",
      "metadata": {
        "id": "xnBa7KKQ20Iu"
      },
      "source": [
        ""
      ],
      "execution_count": null,
      "outputs": []
    },
    {
      "cell_type": "markdown",
      "metadata": {
        "id": "8VsK9Mxt20Iu"
      },
      "source": [
        "- Tam 2 yillik bir timestamp var. `year, month, day_of_month, day_of_week, hour` bilgilerini alarak feature engineering yapalim"
      ]
    },
    {
      "cell_type": "markdown",
      "metadata": {
        "id": "ngiq2v7S20Iu"
      },
      "source": [
        "### 6.Make feature engineering. Extract new columns (day of the week, day of the month, hour, month, season, year etc.)"
      ]
    },
    {
      "cell_type": "markdown",
      "metadata": {
        "id": "_zHyTIZfB4VI"
      },
      "source": [
        "you can use strftime('%Y-%m') for year_mount"
      ]
    },
    {
      "cell_type": "code",
      "metadata": {
        "id": "kuzcXJ0i20Iv"
      },
      "source": [
        ""
      ],
      "execution_count": null,
      "outputs": []
    },
    {
      "cell_type": "code",
      "metadata": {
        "id": "RYw9Klg_20Iv"
      },
      "source": [
        "df.head()"
      ],
      "execution_count": null,
      "outputs": []
    },
    {
      "cell_type": "markdown",
      "metadata": {
        "id": "plpRRF8920Iv"
      },
      "source": [
        "### 7.Visualize the correlation with a heatmap"
      ]
    },
    {
      "cell_type": "code",
      "metadata": {
        "id": "T_KFvQBA20Iw"
      },
      "source": [
        "# for all variables \n"
      ],
      "execution_count": null,
      "outputs": []
    },
    {
      "cell_type": "code",
      "metadata": {
        "id": "8t4Iv-Q520Iw"
      },
      "source": [
        "# for the target variable\n"
      ],
      "execution_count": null,
      "outputs": []
    },
    {
      "cell_type": "markdown",
      "metadata": {
        "id": "zfgbjPiW20Iw"
      },
      "source": [
        "### 8. Visualize the correlation of the target variable and the other features with barplot"
      ]
    },
    {
      "cell_type": "code",
      "metadata": {
        "id": "14fNdyUL20Ix"
      },
      "source": [
        "#with pandas\n"
      ],
      "execution_count": null,
      "outputs": []
    },
    {
      "cell_type": "markdown",
      "metadata": {
        "id": "gAALtK4OAzaN"
      },
      "source": [
        "### 9.Plot bike shares over time use lineplot"
      ]
    },
    {
      "cell_type": "code",
      "metadata": {
        "scrolled": false,
        "id": "53T6Nuor20Iy"
      },
      "source": [
        ""
      ],
      "execution_count": null,
      "outputs": []
    },
    {
      "cell_type": "markdown",
      "metadata": {
        "id": "bl0unzOr9MWN"
      },
      "source": [
        "### 10.Plot bike shares by months and year_of_month (use lineplot, pointplot, barplot)"
      ]
    },
    {
      "cell_type": "code",
      "metadata": {
        "id": "r37qftbg20Iy"
      },
      "source": [
        ""
      ],
      "execution_count": null,
      "outputs": []
    },
    {
      "cell_type": "code",
      "metadata": {
        "scrolled": false,
        "id": "rx3Gh3Cw20Iy"
      },
      "source": [
        "# with lineplot\n"
      ],
      "execution_count": null,
      "outputs": []
    },
    {
      "cell_type": "code",
      "metadata": {
        "scrolled": false,
        "id": "yddCIi3R20Iz"
      },
      "source": [
        "# with lineplot\n"
      ],
      "execution_count": null,
      "outputs": []
    },
    {
      "cell_type": "code",
      "metadata": {
        "id": "2VXlvX_b20Iz"
      },
      "source": [
        "# with pointplot\n"
      ],
      "execution_count": null,
      "outputs": []
    },
    {
      "cell_type": "code",
      "metadata": {
        "id": "AfIj8A4820Iz"
      },
      "source": [
        "# with barplot\n"
      ],
      "execution_count": null,
      "outputs": []
    },
    {
      "cell_type": "markdown",
      "metadata": {
        "id": "4E1AiBafAzaO"
      },
      "source": [
        "### 11.Plot bike shares by hours on (holidays, weekend, season)"
      ]
    },
    {
      "cell_type": "code",
      "metadata": {
        "scrolled": false,
        "id": "MAXUb-Tn20Iz"
      },
      "source": [
        "# with lineplot (*whether it is a holiday or not*)\n"
      ],
      "execution_count": null,
      "outputs": []
    },
    {
      "cell_type": "code",
      "metadata": {
        "id": "ly1idLJL20Iz"
      },
      "source": [
        "# with lineplot (*You may want to see seasonal breakdowns*)\n"
      ],
      "execution_count": null,
      "outputs": []
    },
    {
      "cell_type": "code",
      "metadata": {
        "id": "fZFUlVJn20I0"
      },
      "source": [
        "# with pointplot\n"
      ],
      "execution_count": null,
      "outputs": []
    },
    {
      "cell_type": "markdown",
      "metadata": {
        "id": "QzP5i5wrAzaO"
      },
      "source": [
        "### 12.Plot bike shares by day of week\n",
        "- You may want to see whether it is a holiday or not"
      ]
    },
    {
      "cell_type": "code",
      "metadata": {
        "id": "7GB4NtqL20I0"
      },
      "source": [
        "# with barplot\n"
      ],
      "execution_count": null,
      "outputs": []
    },
    {
      "cell_type": "code",
      "metadata": {
        "id": "9fxEGhPQ20I0"
      },
      "source": [
        "# with pointplot\n"
      ],
      "execution_count": null,
      "outputs": []
    },
    {
      "cell_type": "markdown",
      "metadata": {
        "id": "HMeHndo_20I0"
      },
      "source": [
        "### 13.Plot bike shares by day of month"
      ]
    },
    {
      "cell_type": "code",
      "metadata": {
        "scrolled": false,
        "id": "Uh2gF1kn20I1"
      },
      "source": [
        "#with lineplot\n",
        "\n"
      ],
      "execution_count": null,
      "outputs": []
    },
    {
      "cell_type": "markdown",
      "metadata": {
        "id": "Si3KWsce20I1"
      },
      "source": [
        "### 14.Plot bike shares by year\n",
        "### Plot bike shares on holidays by seasons"
      ]
    },
    {
      "cell_type": "code",
      "metadata": {
        "id": "kWyoqrrF20I1"
      },
      "source": [
        "# with barplot\n"
      ],
      "execution_count": null,
      "outputs": []
    },
    {
      "cell_type": "code",
      "metadata": {
        "id": "HnY7QtrQ20I1"
      },
      "source": [
        "# with barplot"
      ],
      "execution_count": null,
      "outputs": []
    },
    {
      "cell_type": "markdown",
      "metadata": {
        "id": "b9bB9vrj20I1"
      },
      "source": [
        "### 15.Visualize the distribution of bike shares by weekday/weekend with piechart and barplot"
      ]
    },
    {
      "cell_type": "code",
      "metadata": {
        "id": "u9i63ZQ59LW0"
      },
      "source": [
        ""
      ],
      "execution_count": null,
      "outputs": []
    },
    {
      "cell_type": "code",
      "metadata": {
        "id": "CYXHD4gp20I1"
      },
      "source": [
        "# pie chart"
      ],
      "execution_count": null,
      "outputs": []
    },
    {
      "cell_type": "code",
      "metadata": {
        "id": "W9Z30UH120I2"
      },
      "source": [
        "# with countplot\n",
        "\n"
      ],
      "execution_count": null,
      "outputs": []
    },
    {
      "cell_type": "markdown",
      "metadata": {
        "id": "WY0UbCNt20I2"
      },
      "source": [
        "### 16.Plot the distribution of weather code by seasons"
      ]
    },
    {
      "cell_type": "code",
      "metadata": {
        "id": "hPDyFzw320I2"
      },
      "source": [
        "# with countplot\n"
      ],
      "execution_count": null,
      "outputs": []
    },
    {
      "cell_type": "code",
      "metadata": {
        "id": "LRnODYJ_20I2"
      },
      "source": [
        "# with catplot\n"
      ],
      "execution_count": null,
      "outputs": []
    }
  ]
}